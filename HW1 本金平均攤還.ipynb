{
 "cells": [
  {
   "cell_type": "code",
   "execution_count": null,
   "metadata": {},
   "outputs": [],
   "source": [
    "#執行程式 : python ; 執行環境 : jupyter notebook\n",
    "#輸入基本資料\n",
    "print(\"請輸入本金(整數)\")\n",
    "present_value = int(input())\n",
    "print(\"請輸入期數(年)\")\n",
    "years = int(input())\n",
    "print(\"請輸入年利率(%)\")\n",
    "rate = float(input())/100\n",
    "\n",
    "#每月須償還本金 == p_constant\n",
    "p_constant = round(present_value /(years * 12))\n",
    "p = present_value\n",
    "summ = 0\n",
    "\n",
    "#每期需還利息\n",
    "print(\"期數\" + \"\\t\"  \"本金(元)\" + \"\\t\" + \"利息(元)\" + \"\\t\" + \"本金利息累計(元)\")\n",
    "for i in range(years * 12):\n",
    "    r = round(p * rate/12)\n",
    "    print(\"第\" + str(i+1) + \"期\", end =\"\\t\")\n",
    "    if p > p_constant:\n",
    "        summ += p_constant + r\n",
    "        print(p_constant, end = \"\\t\")\n",
    "    else:\n",
    "        summ += p + r\n",
    "        print(p, end = \"\\t\")\n",
    "    print(r, end = \"\\t\")\n",
    "    print(summ)\n",
    "    \n",
    "    p -=  p_constant\n",
    "    \n"
   ]
  }
 ],
 "metadata": {
  "kernelspec": {
   "display_name": "Python 3",
   "language": "python",
   "name": "python3"
  },
  "language_info": {
   "codemirror_mode": {
    "name": "ipython",
    "version": 3
   },
   "file_extension": ".py",
   "mimetype": "text/x-python",
   "name": "python",
   "nbconvert_exporter": "python",
   "pygments_lexer": "ipython3",
   "version": "3.7.0"
  }
 },
 "nbformat": 4,
 "nbformat_minor": 2
}
