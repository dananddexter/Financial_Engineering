{
 "cells": [
  {
   "cell_type": "code",
   "execution_count": 1,
   "metadata": {},
   "outputs": [
    {
     "data": {
      "text/plain": [
       "15.18823112432501"
      ]
     },
     "execution_count": 1,
     "metadata": {},
     "output_type": "execute_result"
    }
   ],
   "source": [
    "20*(1+0.07/2)**(-8)"
   ]
  },
  {
   "cell_type": "code",
   "execution_count": 11,
   "metadata": {},
   "outputs": [
    {
     "name": "stdout",
     "output_type": "stream",
     "text": [
      "請輸入本金(整數)\n",
      "1000000\n",
      "請輸入期數(年)\n",
      "2\n",
      "請輸入年利率(%)\n",
      "2\n",
      "本金(元)\t利息(元)\t本金利息累計(元)\n",
      "41667\t1667\t43334\n",
      "41667\t1597\t86598\n",
      "41667\t1528\t129793\n",
      "41667\t1458\t172918\n",
      "41667\t1389\t215974\n",
      "41667\t1319\t258960\n",
      "41667\t1250\t301877\n",
      "41667\t1181\t344725\n",
      "41667\t1111\t387503\n",
      "41667\t1042\t430212\n",
      "41667\t972\t472851\n",
      "41667\t903\t515421\n",
      "41667\t833\t557921\n",
      "41667\t764\t600352\n",
      "41667\t694\t642713\n",
      "41667\t625\t685005\n",
      "41667\t556\t727228\n",
      "41667\t486\t769381\n",
      "41667\t417\t811465\n",
      "41667\t347\t853479\n",
      "41667\t278\t895424\n",
      "41667\t208\t937299\n",
      "41667\t139\t979105\n",
      "41659\t69\t1020833\n"
     ]
    }
   ],
   "source": [
    "#輸入基本資料\n",
    "print(\"請輸入本金(整數)\")\n",
    "present_value = int(input())\n",
    "print(\"請輸入期數(年)\")\n",
    "years = int(input())\n",
    "print(\"請輸入年利率(%)\")\n",
    "rate = float(input())/100\n",
    "\n",
    "#每月須償還本金 == p_constant\n",
    "p_constant = round(present_value /(years * 12))\n",
    "p = present_value\n",
    "summ = 0\n",
    "\n",
    "#每期需還利息\n",
    "print(\"期數\" + \"\\t\"  \"本金(元)\" + \"\\t\" + \"利息(元)\" + \"\\t\" + \"本金利息累計(元)\")\n",
    "for i in range(years * 12):\n",
    "    r = round(p * rate/12)    \n",
    "    if p > p_constant:\n",
    "        summ += p_constant + r\n",
    "        print(p_constant, end = \"\\t\")\n",
    "    else:\n",
    "        summ += p + r\n",
    "        print(p, end = \"\\t\")\n",
    "    print(r, end = \"\\t\")\n",
    "    print(summ)\n",
    "    \n",
    "    p -=  p_constant\n",
    "    \n",
    "\n"
   ]
  },
  {
   "cell_type": "code",
   "execution_count": 7,
   "metadata": {},
   "outputs": [
    {
     "name": "stdout",
     "output_type": "stream",
     "text": [
      "83366.67\n"
     ]
    }
   ],
   "source": [
    "total = present_value * (1 + rate/100) ** years/12\n",
    "print(total)\n"
   ]
  },
  {
   "cell_type": "code",
   "execution_count": 31,
   "metadata": {},
   "outputs": [
    {
     "name": "stdout",
     "output_type": "stream",
     "text": [
      "123\t456\n"
     ]
    }
   ],
   "source": [
    "print(123, end= \"\\t\")\n",
    "print(456)"
   ]
  },
  {
   "cell_type": "code",
   "execution_count": 14,
   "metadata": {},
   "outputs": [
    {
     "name": "stdout",
     "output_type": "stream",
     "text": [
      "請輸入本金(整數)\n",
      "1000000\n",
      "請輸入期數(年)\n",
      "2\n",
      "請輸入年利率(%)\n",
      "2\n",
      "期數\t本金(元)\t利息(元)\t本金利息累計(元)\n",
      "第1期\t41667\t1667\t43334\n",
      "第2期\t41667\t1597\t86598\n",
      "第3期\t41667\t1528\t129793\n",
      "第4期\t41667\t1458\t172918\n",
      "第5期\t41667\t1389\t215974\n",
      "第6期\t41667\t1319\t258960\n",
      "第7期\t41667\t1250\t301877\n",
      "第8期\t41667\t1181\t344725\n",
      "第9期\t41667\t1111\t387503\n",
      "第10期\t41667\t1042\t430212\n",
      "第11期\t41667\t972\t472851\n",
      "第12期\t41667\t903\t515421\n",
      "第13期\t41667\t833\t557921\n",
      "第14期\t41667\t764\t600352\n",
      "第15期\t41667\t694\t642713\n",
      "第16期\t41667\t625\t685005\n",
      "第17期\t41667\t556\t727228\n",
      "第18期\t41667\t486\t769381\n",
      "第19期\t41667\t417\t811465\n",
      "第20期\t41667\t347\t853479\n",
      "第21期\t41667\t278\t895424\n",
      "第22期\t41667\t208\t937299\n",
      "第23期\t41667\t139\t979105\n",
      "第24期\t41659\t69\t1020833\n"
     ]
    }
   ],
   "source": [
    "#輸入基本資料\n",
    "print(\"請輸入本金(整數)\")\n",
    "present_value = int(input())\n",
    "print(\"請輸入期數(年)\")\n",
    "years = int(input())\n",
    "print(\"請輸入年利率(%)\")\n",
    "rate = float(input())/100\n",
    "\n",
    "#每月須償還本金 == p_constant\n",
    "p_constant = round(present_value /(years * 12))\n",
    "p = present_value\n",
    "summ = 0\n",
    "\n",
    "#每期需還利息\n",
    "print(\"期數\" + \"\\t\"  \"本金(元)\" + \"\\t\" + \"利息(元)\" + \"\\t\" + \"本金利息累計(元)\")\n",
    "for i in range(years * 12):\n",
    "    r = round(p * rate/12)\n",
    "    print(\"第\" + str(i+1) + \"期\", end =\"\\t\")\n",
    "    if p > p_constant:\n",
    "        summ += p_constant + r\n",
    "        print(p_constant, end = \"\\t\")\n",
    "    else:\n",
    "        summ += p + r\n",
    "        print(p, end = \"\\t\")\n",
    "    print(r, end = \"\\t\")\n",
    "    print(summ)\n",
    "    \n",
    "    p -=  p_constant\n",
    "    \n"
   ]
  },
  {
   "cell_type": "code",
   "execution_count": null,
   "metadata": {},
   "outputs": [],
   "source": []
  }
 ],
 "metadata": {
  "kernelspec": {
   "display_name": "Python 3",
   "language": "python",
   "name": "python3"
  },
  "language_info": {
   "codemirror_mode": {
    "name": "ipython",
    "version": 3
   },
   "file_extension": ".py",
   "mimetype": "text/x-python",
   "name": "python",
   "nbconvert_exporter": "python",
   "pygments_lexer": "ipython3",
   "version": "3.7.0"
  }
 },
 "nbformat": 4,
 "nbformat_minor": 2
}
