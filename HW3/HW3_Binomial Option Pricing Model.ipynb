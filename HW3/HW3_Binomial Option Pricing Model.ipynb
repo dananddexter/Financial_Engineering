{
 "cells": [
  {
   "cell_type": "code",
   "execution_count": 1,
   "metadata": {},
   "outputs": [
    {
     "name": "stdout",
     "output_type": "stream",
     "text": [
      "請輸入當前股價\n",
      "160\n",
      "請輸入選擇權約定價格\n",
      "150\n",
      "請輸入每期股票上漲幅度 ex:當期股價10元 下期股價15元 則請輸入1.5 (15/10)\n",
      "1.5\n",
      "請輸入每期股票下跌幅度 ex:當期股價10元 下期股價8元 則請輸入0.8 (8/10)\n",
      "0.5\n",
      "請輸入無風險利率 ex:當期資產10元 下期資產12元 則請輸入1.2\n",
      "1.2\n",
      "請輸入選擇權期數(整數)\n",
      "3\n",
      "T = 3 ==>   390.00    30.00    0.00    0.00    \n",
      "T = 2 ==>   235.00    17.50    0.00    \n",
      "T = 1 ==>   141.46    10.21    \n",
      "T = 0 ==>   85.07    \n",
      "當期call value = 85.07\n"
     ]
    }
   ],
   "source": [
    "import math\n",
    "#輸入基本資料\n",
    "print(\"請輸入當前股價\")\n",
    "S = float(input())\n",
    "print(\"請輸入選擇權約定價格\")\n",
    "X = float(input())\n",
    "print(\"請輸入每期股票上漲幅度 ex:當期股價10元 下期股價15元 則請輸入1.5 (15/10)\")\n",
    "U = float(input())\n",
    "print(\"請輸入每期股票下跌幅度 ex:當期股價10元 下期股價8元 則請輸入0.8 (8/10)\")\n",
    "D = float(input())\n",
    "print(\"請輸入無風險利率 ex:當期資產10元 下期資產12元 則請輸入1.2\")\n",
    "R = float(input())\n",
    "print(\"請輸入選擇權期數(整數)\")\n",
    "N = int(input())\n",
    "\n",
    "#計算最後一期outcomes_call\n",
    "a = []\n",
    "S_X = []\n",
    "strS_X = []\n",
    "for i in range (N+1):\n",
    "    a.append(S * U**(N-i) * D**(i))   \n",
    "    S_X.append( max(a[i]-X, 0) )\n",
    "    strS_X.append( format(S_X[i], '.2f'))\n",
    "    \n",
    "print(\"T = \" + str(N) + \" ==>\", end = '   ') \n",
    "for i in range (N+1):\n",
    "    print(strS_X[i], end = \"    \")\n",
    "\n",
    "\n",
    "#把計算前一期Option 價格寫成 function\n",
    "P = (R - D) / (U - D)\n",
    "Price1 = list(S_X)\n",
    "count1 = N\n",
    "\n",
    "def previous_price(P, Price, R):   \n",
    "    Previous_price = []    \n",
    "    for i in range (len(Price) - 1):\n",
    "        Previous_price.append( (P * Price[i] + (1-P) * Price[i+1]) / R ) \n",
    "        \n",
    "    return Previous_price\n",
    "\n",
    "#Backward Induction\n",
    "if count1 >= 0:\n",
    "    for i in range(count1):\n",
    "        Price1 = previous_price(P, Price1, R)\n",
    "        print(\"\")\n",
    "        print(\"T = \" + str(N-i-1) + \" ==>\", end = \"   \")\n",
    "        for j in range(count1):            \n",
    "            print(format(Price1[j], '.2f'), end =\"    \")\n",
    "         \n",
    "        count1-=1\n",
    "    \n",
    "    print(\"\")\n",
    "    print(\"當期call value = \" + format(Price1[0], '.2f') )"
   ]
  },
  {
   "cell_type": "code",
   "execution_count": 2,
   "metadata": {},
   "outputs": [
    {
     "name": "stdout",
     "output_type": "stream",
     "text": [
      "T = 3 ==>   0.00    0.00    90.00    130.00    \n",
      "T = 2 ==>   0.00    22.50    85.00    \n",
      "T = 1 ==>   5.63    34.38    \n",
      "T = 0 ==>   11.88    \n",
      "當期put value = 11.88\n"
     ]
    }
   ],
   "source": [
    "#計算最後一期outcomes_call_put\n",
    "X_S = []\n",
    "strX_S = []\n",
    "\n",
    "for i in range (N+1):       \n",
    "    X_S.append( max(X - a[i], 0) )\n",
    "    strX_S.append( format(X_S[i], '.2f'))\n",
    "    \n",
    "print(\"T = \" + str(N) + \" ==>\", end = '   ')    \n",
    "for i in range (N+1):\n",
    "    print(strX_S[i], end = \"    \")\n",
    "\n",
    "\n",
    "#Backward Induction\n",
    "Price2 = list(X_S)\n",
    "count2 = N\n",
    "if count2 >= 0:\n",
    "    for i in range(count2):\n",
    "        Price2= previous_price(P, Price2, R)   \n",
    "        print(\"\")\n",
    "        print(\"T = \" + str(N-i-1) + \" ==>\", end = \"   \")\n",
    "        for j in range(count2):\n",
    "            print(format(Price2[j], '.2f'), end = \"    \")\n",
    "        \n",
    "        count2-=1\n",
    "        \n",
    "    print(\"\")\n",
    "    print(\"當期put value = \" + format(Price2[0], '.2f') )"
   ]
  },
  {
   "cell_type": "code",
   "execution_count": null,
   "metadata": {},
   "outputs": [],
   "source": []
  }
 ],
 "metadata": {
  "kernelspec": {
   "display_name": "Python 3",
   "language": "python",
   "name": "python3"
  },
  "language_info": {
   "codemirror_mode": {
    "name": "ipython",
    "version": 3
   },
   "file_extension": ".py",
   "mimetype": "text/x-python",
   "name": "python",
   "nbconvert_exporter": "python",
   "pygments_lexer": "ipython3",
   "version": "3.7.0"
  }
 },
 "nbformat": 4,
 "nbformat_minor": 2
}
