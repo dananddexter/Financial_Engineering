{
 "cells": [
  {
   "cell_type": "code",
   "execution_count": 1,
   "metadata": {},
   "outputs": [
    {
     "name": "stdout",
     "output_type": "stream",
     "text": [
      "請輸入當期債券價格(Current Bond Price)\n",
      "900\n",
      "請輸入債券票面價格(Bond Par Value)\n",
      "1000\n",
      "請輸入債券票面利率%(Coupon Rate%)\n",
      "5\n",
      "請輸入債券到期年限(Years to Maturity)\n",
      "3\n",
      "請輸入債券年付息次數(Numbers of Payments per Year)\n",
      "1\n",
      "債券殖利率: 8.95%\n"
     ]
    }
   ],
   "source": [
    "#計算YTM\n",
    "#輸入基本資料\n",
    "print(\"請輸入當期債券價格(Current Bond Price)\")\n",
    "CBP = float(input())\n",
    "print(\"請輸入債券票面價格(Bond Par Value)\")\n",
    "BPV = float(input())\n",
    "print(\"請輸入債券票面利率%(Coupon Rate%)\")\n",
    "CR = float(input())/100\n",
    "print(\"請輸入債券到期年限(Years to Maturity)\")\n",
    "YM = float(input())\n",
    "print(\"請輸入債券年付息次數(Numbers of Payments per Year)\")\n",
    "NP = int(input())\n",
    "\n",
    "#計算殖利率(YTM)\n",
    "C = BPV * CR\n",
    "\n",
    "#想法: 用當期債券價格減去估計Present value 取最近的值\n",
    "\n",
    "int_YM = int(YM)\n",
    "for r in range(1, 100001):\n",
    "    iPV = 0\n",
    "    for i in range(int_YM):       \n",
    "        iPV += C/((1+r/100000)**(i+1))     \n",
    "    d_BPV = BPV / (1+r/100000)**(int_YM)\n",
    "    PV = iPV + d_BPV\n",
    "    if(PV - CBP) <= 0:\n",
    "        print(\"債券殖利率:\" ,end =\" \")\n",
    "        YTM = 100*round(r/100000/NP, 4)\n",
    "        strYTM = str(YTM) \n",
    "        print(strYTM + \"%\")\n",
    "        break"
   ]
  },
  {
   "cell_type": "code",
   "execution_count": 4,
   "metadata": {},
   "outputs": [
    {
     "name": "stdout",
     "output_type": "stream",
     "text": [
      "請輸入零息債券到期年數(Duration of spot rate)\n",
      "8\n",
      "請輸入零息債券價格(Price of unit zero-coupon bond)\n",
      "0.5\n",
      "spot rate of interest: 9.05%\n",
      "spot force of interest: 8.66%\n"
     ]
    }
   ],
   "source": [
    "#計算spot rate\n",
    "#輸入基本資料\n",
    "import math\n",
    "print(\"請輸入零息債券到期年數(Duration of spot rate)\")\n",
    "Y = float(input())\n",
    "print(\"請輸入零息債券價格(Price of unit zero-coupon bond)\")\n",
    "P = float(input())\n",
    "\n",
    "Yield = round( ((1/P)**(1/Y) -1), 4 ) * 100\n",
    "Yield = round(Yield, 2)\n",
    "strYield = str(Yield)\n",
    "print(\"spot rate of interest:\" ,end =\" \")\n",
    "print(strYield + \"%\")\n",
    "\n",
    "ForceOfInterest = round( (-1/Y)*(math.log(P)), 4 ) * 100\n",
    "strF = str(ForceOfInterest)\n",
    "print(\"spot force of interest:\" ,end =\" \")\n",
    "print(strF + \"%\")"
   ]
  },
  {
   "cell_type": "code",
   "execution_count": 2,
   "metadata": {},
   "outputs": [
    {
     "name": "stdout",
     "output_type": "stream",
     "text": [
      "請輸入Time due for the beginning of forward rate:\n",
      "4\n",
      "請輸入Duration of forward rate:\n",
      "3\n",
      "請輸入Price of 4.0 year unit zero coupon bond(0~1之間):\n",
      "0.8\n",
      "請輸入Price of 7.0 year unit zero coupon bond(0~1之間):\n",
      "0.5\n",
      "3.0 year forward rate of interest beginning 4.0 years from now:\n",
      "16.96%\n",
      "3.0 year forward force of interest beginning 4.0 years from now:\n",
      "15.67%\n"
     ]
    }
   ],
   "source": [
    "#計算forward rate\n",
    "#輸入基本資料\n",
    "import math\n",
    "print(\"請輸入Time due for the beginning of forward rate:\")\n",
    "Y1 = float(input())\n",
    "strY1 = str(Y1)\n",
    "print(\"請輸入Duration of forward rate:\")\n",
    "Y2 = float(input())\n",
    "strY2 = str(Y2)\n",
    "strY12 = str(Y1+Y2)\n",
    "\n",
    "print(\"請輸入Price of \" + strY1 + \" year unit zero coupon bond(0~1之間):\")\n",
    "P1 = float(input())\n",
    "print(\"請輸入Price of \" + strY12 + \" year unit zero coupon bond(0~1之間):\")\n",
    "while True:\n",
    "    P2 = float(input())\n",
    "    if P2 >= P1:\n",
    "        print(\"價格錯誤 請重新輸入\")\n",
    "    else :\n",
    "        break\n",
    "\n",
    "FV = (P1/P2) ** (1/Y2) - 1\n",
    "FV = round(100*FV , 2)\n",
    "strFV = str(FV)\n",
    "print(strY2 + \" year forward rate of interest beginning \" + strY1 + \" years from now:\" )\n",
    "print(strFV + \"%\")\n",
    "\n",
    "FFV = (1/Y2) * math.log(P1/P2) \n",
    "FFV = round(FFV * 100 , 2)\n",
    "strFFV = str(FFV)\n",
    "print(strY2 + \" year forward force of interest beginning \" + strY1 + \" years from now:\" )\n",
    "print(strFFV + \"%\")"
   ]
  },
  {
   "cell_type": "code",
   "execution_count": null,
   "metadata": {},
   "outputs": [],
   "source": []
  }
 ],
 "metadata": {
  "kernelspec": {
   "display_name": "Python 3",
   "language": "python",
   "name": "python3"
  },
  "language_info": {
   "codemirror_mode": {
    "name": "ipython",
    "version": 3
   },
   "file_extension": ".py",
   "mimetype": "text/x-python",
   "name": "python",
   "nbconvert_exporter": "python",
   "pygments_lexer": "ipython3",
   "version": "3.7.0"
  }
 },
 "nbformat": 4,
 "nbformat_minor": 2
}
