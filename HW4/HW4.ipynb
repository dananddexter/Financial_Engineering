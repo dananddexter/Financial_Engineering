{
 "cells": [
  {
   "cell_type": "code",
   "execution_count": 1,
   "metadata": {},
   "outputs": [
    {
     "name": "stdout",
     "output_type": "stream",
     "text": [
      "請輸入當前股價\n",
      "75\n",
      "請輸入股票波動率(variance) %\n",
      "35\n",
      "請輸入年配息次數\n",
      "2\n",
      "請分別輸入幾個月後發放股利\n",
      "1\n",
      "4\n",
      "請每次股利發放多少錢\n",
      "1\n",
      "請輸入年利率 %\n",
      "6\n",
      "請輸入到期價格\n",
      "65\n",
      "請輸入到期時間(月)\n",
      "6\n",
      "put price = $2.86\n",
      "call price = $12.81\n"
     ]
    }
   ],
   "source": [
    "import math\n",
    "import numpy as np\n",
    "from scipy.stats import norm\n",
    "\n",
    "#輸入基本資料\n",
    "print(\"請輸入當前股價\")\n",
    "s = float(input())\n",
    "print(\"請輸入股票波動率(variance) %\")\n",
    "sigma = float(input()) / 100\n",
    "print(\"請輸入年配息次數\")\n",
    "n = int(input())\n",
    "print(\"請分別輸入幾個月後發放股利\")\n",
    "d = []\n",
    "for i in range(n):\n",
    "    d.append(int(input()))\n",
    "print(\"請每次股利發放多少錢\")\n",
    "dm = float(input())\n",
    "print(\"請輸入年利率 %\")\n",
    "r = float(input()) /100\n",
    "print(\"請輸入到期價格\")\n",
    "m = float(input())\n",
    "print(\"請輸入到期時間(月)\")\n",
    "maturity = int(input())\n",
    "\n",
    "#求D\n",
    "D = 0\n",
    "for i in d:    \n",
    "    D += dm * math.exp(-r*(i/12))\n",
    "\n",
    "\n",
    "\n",
    "#計算 Shat, d1, d2\n",
    "sh = s - D\n",
    " \n",
    "d1 = (math.log(sh/m) + (r + (1/2)*sigma**2)*(maturity/12) ) / (sigma* (maturity/12)**(1/2))\n",
    "\n",
    "d2 = d1 - sigma*(maturity/12)**(1/2)\n",
    "\n",
    "\n",
    "#計算put price\n",
    "p = round(m * math.exp(-r*(maturity/12)) * norm.cdf(-d2) - sh * norm.cdf(-d1), 2)\n",
    "print(\"put price = $\" + str(p))\n",
    "#計算call price\n",
    "c = round(sh*norm.cdf(d1) - m*math.exp(-r * (maturity/12)) *norm.cdf(d2), 2)\n",
    "print(\"call price = $\" + str(c))"
   ]
  },
  {
   "cell_type": "code",
   "execution_count": null,
   "metadata": {},
   "outputs": [],
   "source": []
  }
 ],
 "metadata": {
  "kernelspec": {
   "display_name": "Python 3",
   "language": "python",
   "name": "python3"
  },
  "language_info": {
   "codemirror_mode": {
    "name": "ipython",
    "version": 3
   },
   "file_extension": ".py",
   "mimetype": "text/x-python",
   "name": "python",
   "nbconvert_exporter": "python",
   "pygments_lexer": "ipython3",
   "version": "3.7.0"
  }
 },
 "nbformat": 4,
 "nbformat_minor": 2
}
